{
 "cells": [
  {
   "cell_type": "code",
   "execution_count": 7,
   "id": "4c549911",
   "metadata": {},
   "outputs": [],
   "source": [
    "from transformers import AutoModelForCausalLM, AutoTokenizer\n",
    "import torch"
   ]
  },
  {
   "cell_type": "code",
   "execution_count": 17,
   "id": "03c3022f",
   "metadata": {},
   "outputs": [
    {
     "name": "stderr",
     "output_type": "stream",
     "text": [
      "Special tokens have been added in the vocabulary, make sure the associated word embeddings are fine-tuned or trained.\n",
      "Special tokens have been added in the vocabulary, make sure the associated word embeddings are fine-tuned or trained.\n"
     ]
    },
    {
     "name": "stdout",
     "output_type": "stream",
     "text": [
      "Abel : Hello! I'm here to listen. Type 'bye' to end the conversation.\n",
      "You: Hi\n",
      "Context User:Hi\n",
      "Bot:\n",
      "Abel: \n",
      "You: bye\n"
     ]
    },
    {
     "ename": "ValueError",
     "evalue": "too many values to unpack (expected 2)",
     "output_type": "error",
     "traceback": [
      "\u001b[1;31m---------------------------------------------------------------------------\u001b[0m",
      "\u001b[1;31mValueError\u001b[0m                                Traceback (most recent call last)",
      "Cell \u001b[1;32mIn[17], line 67\u001b[0m\n\u001b[0;32m     65\u001b[0m \u001b[38;5;28;01mif\u001b[39;00m \u001b[38;5;18m__name__\u001b[39m \u001b[38;5;241m==\u001b[39m \u001b[38;5;124m\"\u001b[39m\u001b[38;5;124m__main__\u001b[39m\u001b[38;5;124m\"\u001b[39m:\n\u001b[0;32m     66\u001b[0m     bot \u001b[38;5;241m=\u001b[39m TherapyChatbot()\n\u001b[1;32m---> 67\u001b[0m     \u001b[43mbot\u001b[49m\u001b[38;5;241;43m.\u001b[39;49m\u001b[43mchat\u001b[49m\u001b[43m(\u001b[49m\u001b[43m)\u001b[49m\n",
      "Cell \u001b[1;32mIn[17], line 53\u001b[0m, in \u001b[0;36mTherapyChatbot.chat\u001b[1;34m(self)\u001b[0m\n\u001b[0;32m     51\u001b[0m \u001b[38;5;28;01mwhile\u001b[39;00m \u001b[38;5;28;01mTrue\u001b[39;00m:\n\u001b[0;32m     52\u001b[0m     user_message \u001b[38;5;241m=\u001b[39m \u001b[38;5;28minput\u001b[39m(\u001b[38;5;124m\"\u001b[39m\u001b[38;5;124mYou: \u001b[39m\u001b[38;5;124m\"\u001b[39m)\n\u001b[1;32m---> 53\u001b[0m     bot_response, end_conversation \u001b[38;5;241m=\u001b[39m \u001b[38;5;28mself\u001b[39m\u001b[38;5;241m.\u001b[39mgenerate_response(user_message)\n\u001b[0;32m     56\u001b[0m     \u001b[38;5;28mself\u001b[39m\u001b[38;5;241m.\u001b[39madd_to_memory(user_message, bot_response)\n\u001b[0;32m     58\u001b[0m     \u001b[38;5;28mprint\u001b[39m(\u001b[38;5;124mf\u001b[39m\u001b[38;5;124m\"\u001b[39m\u001b[38;5;124mAbel: \u001b[39m\u001b[38;5;132;01m{\u001b[39;00mbot_response\u001b[38;5;132;01m}\u001b[39;00m\u001b[38;5;124m\"\u001b[39m)\n",
      "\u001b[1;31mValueError\u001b[0m: too many values to unpack (expected 2)"
     ]
    }
   ],
   "source": [
    "import random\n",
    "\n",
    "class TherapyChatbot:\n",
    "    def __init__(self,model_name='microsoft/DialoGPT-medium'):\n",
    "        self.memory = []\n",
    "        self.farewell_messages = [\"bye\", \"goodbye\", \"see you\", \"farewell\", \"exit\", \"quit\"]\n",
    "        ##self.greeting_messages = [\"hello\", \"hi\", \"hey\", \"good morning\", \"good evening\"]\n",
    "        self.tokenizer = AutoTokenizer.from_pretrained(model_name)\n",
    "        self.model = AutoModelForCausalLM.from_pretrained(model_name)\n",
    "    \n",
    "    def add_to_memory(self, user_message, bot_response):\n",
    "        \"\"\"Store the conversation in memory.\"\"\"\n",
    "        self.memory.append({\"user\": user_message, \"bot\": bot_response})\n",
    "\n",
    "    def generate_response(self, message):\n",
    "        \"\"\"Generate a response based on user input.\"\"\"\n",
    "        if any(farewell in message.lower() for farewell in self.farewell_messages):\n",
    "            return \"It was nice talking to you. Take care!\"\n",
    "        \n",
    "        conversation_context =\"\"\n",
    "        for msg in self.memory:\n",
    "            conversation_context += f\"User: {msg['user']}\\nBot: {msg['bot']}\\n\"\n",
    "        conversation_context += f\"User:{message}\\nBot:\"\n",
    "        \n",
    "        print(\"Context\",conversation_context)\n",
    "        \n",
    "        inputs = self.tokenizer.encode(conversation_context, return_tensors=\"pt\")\n",
    "        response_ids= self.model.generate(inputs, max_length=500,pad_token_id=self.tokenizer.eos_token_id)\n",
    "        bot_response = self.tokenizer.decode(response_ids[:, inputs.shape[-1]:][0],skip_special_tokens=True)\n",
    "        \n",
    "        return bot_response.strip(), False\n",
    "    \n",
    "    \n",
    "\n",
    "        ##if any(greeting in message.lower() for greeting in self.greeting_messages):\n",
    "            ##return \"Hello! How can I help you today?\"\n",
    "\n",
    "        \n",
    "        ##response_pool = [\n",
    "            ##\"That sounds tough. Can you tell me more about it?\",\n",
    "           ## \"How does that make you feel?\",\n",
    "           ## \"I'm here to listen. Please continue.\",\n",
    "           ## \"What would you like to focus on today?\"\n",
    "       ## ]\n",
    "       ## return random.choice(response_pool)\n",
    "\n",
    "    def chat(self):\n",
    "        \"\"\"Main chat loop.\"\"\"\n",
    "        print(\"Abel : Hello! I'm here to listen. Type 'bye' to end the conversation.\")\n",
    "        \n",
    "        while True:\n",
    "            user_message = input(\"You: \")\n",
    "            bot_response, end_conversation = self.generate_response(user_message)\n",
    "            \n",
    "            \n",
    "            self.add_to_memory(user_message, bot_response)\n",
    "            \n",
    "            print(f\"Abel: {bot_response}\")\n",
    "            \n",
    "            \n",
    "            if end_conversation:\n",
    "                break\n",
    "\n",
    "\n",
    "if __name__ == \"__main__\":\n",
    "    bot = TherapyChatbot()\n",
    "    bot.chat()"
   ]
  },
  {
   "cell_type": "code",
   "execution_count": 16,
   "id": "3aba28ca",
   "metadata": {},
   "outputs": [
    {
     "ename": "NameError",
     "evalue": "name 'conversation_context' is not defined",
     "output_type": "error",
     "traceback": [
      "\u001b[1;31m---------------------------------------------------------------------------\u001b[0m",
      "\u001b[1;31mNameError\u001b[0m                                 Traceback (most recent call last)",
      "Cell \u001b[1;32mIn[16], line 1\u001b[0m\n\u001b[1;32m----> 1\u001b[0m \u001b[38;5;28mprint\u001b[39m(\u001b[38;5;124m\"\u001b[39m\u001b[38;5;124mContext\u001b[39m\u001b[38;5;124m\"\u001b[39m,\u001b[43mconversation_context\u001b[49m)\n",
      "\u001b[1;31mNameError\u001b[0m: name 'conversation_context' is not defined"
     ]
    }
   ],
   "source": []
  }
 ],
 "metadata": {
  "kernelspec": {
   "display_name": "Python 3 (ipykernel)",
   "language": "python",
   "name": "python3"
  },
  "language_info": {
   "codemirror_mode": {
    "name": "ipython",
    "version": 3
   },
   "file_extension": ".py",
   "mimetype": "text/x-python",
   "name": "python",
   "nbconvert_exporter": "python",
   "pygments_lexer": "ipython3",
   "version": "3.11.4"
  }
 },
 "nbformat": 4,
 "nbformat_minor": 5
}
